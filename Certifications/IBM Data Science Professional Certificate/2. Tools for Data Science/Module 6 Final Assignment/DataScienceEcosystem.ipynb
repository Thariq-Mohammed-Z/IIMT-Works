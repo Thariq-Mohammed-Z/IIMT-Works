{
 "cells": [
  {
   "cell_type": "markdown",
   "id": "99958702-c43b-4c35-b609-ad398d4a41b4",
   "metadata": {},
   "source": [
    "# Data Science Tools and Ecosystem"
   ]
  },
  {
   "cell_type": "markdown",
   "id": "98359f06-8352-4b2d-bb28-d7953b5e9d31",
   "metadata": {},
   "source": [
    "In this notebook, Data Science Tools and Ecosystem are summarized."
   ]
  },
  {
   "cell_type": "markdown",
   "id": "64c45523-123e-48e7-ab86-554d361a7a0d",
   "metadata": {},
   "source": [
    "**Objectives:**\n",
    "+ List popular languages for Data Science\n",
    "+ List common libraries used by Data Scientists\n",
    "+ Table for Data Science Tools\n",
    "+ Evaluation of arithmetic equations"
   ]
  },
  {
   "cell_type": "markdown",
   "id": "df51d32c-23c6-4fe1-ab52-608cedbc888a",
   "metadata": {},
   "source": [
    "Some of the popular languages that Data Scientists use are:\n",
    "1. Python\n",
    "2. R\n",
    "3. SQL\n",
    "4. Java\n",
    "5. Julia"
   ]
  },
  {
   "cell_type": "markdown",
   "id": "b946eddc-d70c-43e9-a2d7-30828b77be0a",
   "metadata": {},
   "source": [
    "Some of the commonly used libraries used by Data Scientists include:\n",
    "+ Pandas\n",
    "+ NumPy\n",
    "+ Maplotlib\n",
    "+ Scikit-learn\n",
    "+ TensorFlow\n",
    "+ PyTorch"
   ]
  },
  {
   "cell_type": "markdown",
   "id": "29cf41c1-c194-4f70-8257-c0356f43e0e5",
   "metadata": {},
   "source": [
    "| Data Science Tools |\n",
    "| --- |\n",
    "| Jupyter Notebook |\n",
    "| RStudio |\n",
    "| GitHub |"
   ]
  },
  {
   "cell_type": "markdown",
   "id": "c48701f0-544c-4aae-9bc2-55d4e6b214c2",
   "metadata": {},
   "source": [
    "### Below are a few examples of evaluating arithmetic expressions in Python"
   ]
  },
  {
   "cell_type": "code",
   "execution_count": 17,
   "id": "beef2f27-18ca-46b1-8583-6d5ce5add769",
   "metadata": {},
   "outputs": [
    {
     "data": {
      "text/plain": [
       "17"
      ]
     },
     "execution_count": 17,
     "metadata": {},
     "output_type": "execute_result"
    }
   ],
   "source": [
    "# This a simple arithmetic expression to mutiply then add integers\n",
    "(3*4)+5"
   ]
  },
  {
   "cell_type": "code",
   "execution_count": 23,
   "id": "119521fb-989b-498c-a5d4-00ee21e2e4af",
   "metadata": {},
   "outputs": [
    {
     "data": {
      "text/plain": [
       "3.3333333333333335"
      ]
     },
     "execution_count": 23,
     "metadata": {},
     "output_type": "execute_result"
    }
   ],
   "source": [
    "# This will convert 200 minutes to hours by diving by 60\n",
    "200/60"
   ]
  },
  {
   "cell_type": "markdown",
   "id": "7a45d39c-250a-40cb-9d39-98ed318f579a",
   "metadata": {},
   "source": [
    "## Author\n",
    "Thariq Mohammed Z"
   ]
  },
  {
   "cell_type": "code",
   "execution_count": null,
   "id": "8dec94c9-7baa-4833-a828-b0aa573a7a50",
   "metadata": {},
   "outputs": [],
   "source": []
  }
 ],
 "metadata": {
  "kernelspec": {
   "display_name": "Python 3 (ipykernel)",
   "language": "python",
   "name": "python3"
  },
  "language_info": {
   "codemirror_mode": {
    "name": "ipython",
    "version": 3
   },
   "file_extension": ".py",
   "mimetype": "text/x-python",
   "name": "python",
   "nbconvert_exporter": "python",
   "pygments_lexer": "ipython3",
   "version": "3.12.4"
  }
 },
 "nbformat": 4,
 "nbformat_minor": 5
}
